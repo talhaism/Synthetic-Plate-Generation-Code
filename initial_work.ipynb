{
 "cells": [
  {
   "cell_type": "code",
   "execution_count": 1,
   "id": "0f545db3-98c0-4e04-8043-4c543a2a0ce2",
   "metadata": {},
   "outputs": [],
   "source": [
    "letters = 'ABJDRSXTEGKLZNHUV'"
   ]
  },
  {
   "cell_type": "code",
   "execution_count": 2,
   "id": "b0ab7c16-6023-4204-a195-54ea7d89c639",
   "metadata": {},
   "outputs": [],
   "source": [
    "numbers = '0123456789'"
   ]
  },
  {
   "cell_type": "code",
   "execution_count": 3,
   "id": "d0a43cd6-2d7b-4b1b-855d-7fcce2d47057",
   "metadata": {},
   "outputs": [],
   "source": [
    "import random "
   ]
  },
  {
   "cell_type": "code",
   "execution_count": 4,
   "id": "fb0bdf9c-8390-4bd3-8e6c-43cff63974bc",
   "metadata": {},
   "outputs": [],
   "source": [
    "x = range(100)"
   ]
  },
  {
   "cell_type": "code",
   "execution_count": 17,
   "id": "559e9a89-72fc-43d3-8bac-b71eda30bfe8",
   "metadata": {},
   "outputs": [],
   "source": [
    "from PIL import Image, ImageFont, ImageDraw\n",
    "im = Image.open(\"template.jpg\")\n",
    "helvetica = ImageFont.truetype(\"arial.ttf\",150)\n",
    "d = ImageDraw.Draw(im)\n",
    "\n",
    "location = (100, 50)\n",
    "text_color = (100, 100, 200)\n",
    "d.text(location, \"Kite\", font=helvetica, fill=text_color)\n",
    "\n",
    "im.save(\"drawn_grid.png\")"
   ]
  },
  {
   "cell_type": "code",
   "execution_count": 15,
   "id": "eed98c19-a093-46c4-b37e-df2ca45daab6",
   "metadata": {},
   "outputs": [],
   "source": [
    "from PIL import Image\n",
    "from PIL import ImageDraw\n",
    "img = Image.open('template.jpg')\n",
    "I1 = ImageDraw.Draw(img)\n",
    "I1.text((53, 202), \"XLR\", fill=(255, 255, 0))\n",
    "img.show()\n",
    "  "
   ]
  },
  {
   "cell_type": "code",
   "execution_count": null,
   "id": "ba129d6c-9a6a-42ec-a79a-799a4c8e9b64",
   "metadata": {},
   "outputs": [],
   "source": []
  },
  {
   "cell_type": "code",
   "execution_count": 14,
   "id": "5bffd926-559d-49bf-be6c-31aaf22579b3",
   "metadata": {},
   "outputs": [
    {
     "name": "stdout",
     "output_type": "stream",
     "text": [
      "9173 DVJ\n"
     ]
    }
   ],
   "source": [
    "letters = 'ABJDRSXTEGKLZNHUV'\n",
    "numbers = '0123456789'\n",
    "import random \n",
    "N1 = random.choice(numbers)\n",
    "N2 = random.choice(numbers)\n",
    "N3 = random.choice(numbers)\n",
    "N4 = random.choice(numbers)\n",
    "L1 = random.choice(letters)\n",
    "L2 = random.choice(letters)\n",
    "L3 = random.choice(letters)\n",
    "print(N1+N2+N3+N4+' '+L1+L2+L3)"
   ]
  },
  {
   "cell_type": "code",
   "execution_count": 13,
   "id": "fb58075f-7a70-4d6d-be61-c557f85bb89b",
   "metadata": {},
   "outputs": [
    {
     "name": "stdout",
     "output_type": "stream",
     "text": [
      "١٦٢٧ دد \n"
     ]
    }
   ],
   "source": [
    "letters = 'ا ب ح د ر س ص ط ع ق ك ل م ن ه و ى  ' \n",
    "numbers = '٠١٢٣٤٥٦٧٨٩'\n",
    "import random\n",
    "N1 = random.choice(numbers)\n",
    "N2 = random.choice(numbers)\n",
    "N3 = random.choice(numbers)\n",
    "N4 = random.choice(numbers)\n",
    "L1 = random.choice(letters)\n",
    "L2 = random.choice(letters)\n",
    "L3 = random.choice(letters)\n",
    "print(N1+N2+N3+N4+' '+L1+L2+L3)\n",
    "  "
   ]
  },
  {
   "cell_type": "code",
   "execution_count": 12,
   "id": "8881b6d7-8f27-456e-a6ca-1001cf4d7c29",
   "metadata": {},
   "outputs": [
    {
     "name": "stdout",
     "output_type": "stream",
     "text": [
      "٦٩٤٨  مم\n",
      "٩٦٥٢   ر\n",
      "٨٩٨٧   ب\n",
      "٨٧٠١  ل \n",
      "٤٩٥٤ ق  \n",
      "١١٨٠   ح\n",
      "٤٨٠١ ك  \n",
      "١٨٧٣   ص\n",
      "٨٨٣٥    \n",
      "٢٦٣٧ كه \n",
      "١٢٧٨ صسه\n",
      "٨٥١٤ د ح\n",
      "٤٦٩٥  لس\n",
      "٣١٠٤  ح \n",
      "٨٢٤٥ ص  \n",
      "٩٠٦٠ دم \n",
      "٥٣١٦   ب\n",
      "٢١٤٧ دد \n",
      "٣٢٣٠    \n",
      "٢١٣٤ صق \n",
      "١٢٤١ صى \n",
      "٥٨٨١    \n",
      "٨٨٠٨  كط\n",
      "٨٣٢٢    \n",
      "٣٣٦٥ سعد\n",
      "٨٠٦٧ ىاه\n",
      "٨١٨٤    \n",
      "٥٧٥٥   م\n",
      "٢٢٣٦ هح \n",
      "٧٨٧١  حن\n",
      "٧١٨٢ قنل\n",
      "٧٩٠٥   ح\n",
      "١٩٠٧   ط\n",
      "٧٠٥٦ سح \n",
      "٠٣٧٢ بس \n",
      "٠١١١  عك\n",
      "٦٢٧٥    \n",
      "٢٩٧٦   ك\n",
      "٣٦٠٦  ب \n",
      "٠٧٥٠   ك\n",
      "٩٢٥٠ وىن\n",
      "١١٠٠  ل \n",
      "٩٧٠٠   ق\n",
      "٤٧٥٤    \n",
      "٤٥٧٥ م  \n",
      "١١٨٨ ق ح\n",
      "٠١١٥ مرى\n",
      "٥٨٩١    \n",
      "٧٢٨٩ مدا\n",
      "٥٤٨٨  و \n",
      "٢٣٥٦ ن س\n",
      "٦٤٧٦  نو\n",
      "٩٨٤٨ عص \n",
      "٢٠٥٢ ح ص\n",
      "٤٧٣١ بطر\n",
      "٨٢٧٧  ص \n",
      "١٢٨٩  هن\n",
      "٥٣٢٥  ه \n",
      "١٠٢٣   ر\n",
      "٦٠٥٣ ق  \n",
      "٥١١١   س\n",
      "٧٠٤٣    \n",
      "٦٣٤٦  قط\n",
      "٥٥٢٣  سس\n",
      "٢٠٢٨ م  \n",
      "٨٨٢٩  ن \n",
      "٠١٠٩   س\n",
      "٠٣٢٣ ق ك\n",
      "٥٦٧٢ ر ع\n",
      "٧٩٩٩    \n",
      "٤٢٩٦ سسا\n",
      "١٣٧٠   ل\n",
      "٨٨٦٥ قل \n",
      "٥٧٩٩ ط ط\n",
      "٢٤٣٢   و\n",
      "٩٨٤٣    \n",
      "٨٥٣١   ر\n",
      "٤٣٨٥ ك و\n",
      "٦٨٩٤ ان \n",
      "٠٤٥٣   ا\n",
      "٥٢٦٨ ط  \n",
      "٩٩٠٢  ق \n",
      "٨١٠١  س \n",
      "٦٢٢٢    \n",
      "٠٨٩١  طا\n",
      "٨٦٠١ ص  \n",
      "١٥٢٩ س ى\n",
      "٢٤٦٧ هح \n",
      "٩٢٨٠  حس\n",
      "٦٥٢٧    \n",
      "٤٠٠٦ ل  \n",
      "٠٦٠٦ اوط\n",
      "١٣٩٤ للل\n",
      "٣٥٢١    \n",
      "٩٤٠٦ ب ح\n",
      "٨٢٤٨    \n",
      "٤٢٩٦   ب\n",
      "٠٦٧٠   ط\n",
      "٠٣٧٩    \n",
      "٧١١٦  در\n"
     ]
    }
   ],
   "source": [
    "letters = 'ا ب ح د ر س ص ط ع ق ك ل م ن ه و ى  ' \n",
    "numbers = '٠١٢٣٤٥٦٧٨٩'\n",
    "import random\n",
    "x = range(100)\n",
    "for i in x:\n",
    "  N1 = random.choice(numbers)\n",
    "  N2 = random.choice(numbers)\n",
    "  N3 = random.choice(numbers)\n",
    "  N4 = random.choice(numbers)\n",
    "  L1 = random.choice(letters)\n",
    "  L2 = random.choice(letters)\n",
    "  L3 = random.choice(letters)\n",
    "  print(N1+N2+N3+N4+' '+L1+L2+L3)"
   ]
  },
  {
   "cell_type": "code",
   "execution_count": null,
   "id": "d8e1eef1-7e65-4bed-b5dd-838e5c13ce43",
   "metadata": {},
   "outputs": [],
   "source": []
  }
 ],
 "metadata": {
  "kernelspec": {
   "display_name": "Python 3",
   "language": "python",
   "name": "python3"
  },
  "language_info": {
   "codemirror_mode": {
    "name": "ipython",
    "version": 3
   },
   "file_extension": ".py",
   "mimetype": "text/x-python",
   "name": "python",
   "nbconvert_exporter": "python",
   "pygments_lexer": "ipython3",
   "version": "3.8.10"
  }
 },
 "nbformat": 4,
 "nbformat_minor": 5
}
